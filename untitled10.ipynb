{
  "nbformat": 4,
  "nbformat_minor": 0,
  "metadata": {
    "colab": {
      "provenance": [],
      "authorship_tag": "ABX9TyOFNDpyecKRHtm4cCxIT6QO",
      "include_colab_link": true
    },
    "kernelspec": {
      "name": "python3",
      "display_name": "Python 3"
    },
    "language_info": {
      "name": "python"
    }
  },
  "cells": [
    {
      "cell_type": "markdown",
      "metadata": {
        "id": "view-in-github",
        "colab_type": "text"
      },
      "source": [
        "<a href=\"https://colab.research.google.com/github/Meme00a/Masar/blob/main/untitled10.ipynb\" target=\"_parent\"><img src=\"https://colab.research.google.com/assets/colab-badge.svg\" alt=\"Open In Colab\"/></a>"
      ]
    },
    {
      "cell_type": "code",
      "execution_count": 3,
      "metadata": {
        "id": "N0R03Vd_sejk"
      },
      "outputs": [],
      "source": [
        "\n",
        "#your code goes here\n",
        "def even_squares(numbers):\n",
        "  even_squares_list=[]\n",
        "  for num in numbers:\n",
        "    if num%2==0:\n",
        "      even_squares_list.append(num**2)\n",
        "  return even_squares_list"
      ]
    }
  ]
}