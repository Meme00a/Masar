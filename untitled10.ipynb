{
  "nbformat": 4,
  "nbformat_minor": 0,
  "metadata": {
    "colab": {
      "provenance": [],
      "authorship_tag": "ABX9TyOlfYReRklVl4Gna00QXCQR",
      "include_colab_link": true
    },
    "kernelspec": {
      "name": "python3",
      "display_name": "Python 3"
    },
    "language_info": {
      "name": "python"
    }
  },
  "cells": [
    {
      "cell_type": "markdown",
      "metadata": {
        "id": "view-in-github",
        "colab_type": "text"
      },
      "source": [
        "<a href=\"https://colab.research.google.com/github/Meme00a/Masar/blob/main/untitled10.ipynb\" target=\"_parent\"><img src=\"https://colab.research.google.com/assets/colab-badge.svg\" alt=\"Open In Colab\"/></a>"
      ]
    },
    {
      "cell_type": "code",
      "execution_count": 5,
      "metadata": {
        "colab": {
          "base_uri": "https://localhost:8080/"
        },
        "id": "N0R03Vd_sejk",
        "outputId": "6a88047c-5be3-4337-827d-d2fb35f58bd5"
      },
      "outputs": [
        {
          "output_type": "stream",
          "name": "stdout",
          "text": [
            "792\n",
            "974\n",
            "346\n",
            "454\n",
            "698\n",
            "236\n",
            "150\n",
            "698\n",
            "294\n",
            "556\n",
            "712\n",
            "716\n",
            "486\n",
            "642\n",
            "644\n",
            "728\n",
            "208\n",
            "52\n",
            "reached the number::: Exit the loop\n"
          ]
        }
      ],
      "source": [
        "\n",
        "#your code goes here\n",
        "#copy 'nums' from the text above\n",
        "nums = [229, 792, 857, 579, 974, 346, 649, 454, 698, 347, 236, 297, 150, 698, 294, 663, 556, 712, 271, 283, 705, 347, 725, 716, 486, 642, 644, 728, 409, 208, 421, 799, 52, 796, 441, 374, 60, 948, 143, 698, 934, 561, 917, 678, 666, 476, 23, 743, 836, 655, 971, 372, 215, 567, 462, 127, 208, 683, 618, 96, 329, 92, 934, 992, 120, 944, 605, 78, 87, 216, 62, 919, 462, 597, 671, 493, 540, 451, 885, 375, 606, 90, 607, 443, 240, 708, 674, 111, 165, 858, 799, 39, 383, 602, 695, 689, 726, 344, 2, 335]\n",
        "\n",
        "\n",
        "for i in nums: # or you can use index but you have to get the len, i.e., l = len(nums)\n",
        "  if i == 52:\n",
        "    print(i)\n",
        "    print('reached the number::: Exit the loop')\n",
        "    break\n",
        "  if i % 2 == 0:\n",
        "    print(i)"
      ]
    }
  ]
}